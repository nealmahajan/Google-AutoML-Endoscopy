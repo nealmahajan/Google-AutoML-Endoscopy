{
 "cells": [
  {
   "cell_type": "code",
   "execution_count": 1,
   "metadata": {},
   "outputs": [],
   "source": [
    "import sys\n",
    "import os, os.path\n",
    "# uncomment and run the below line if google-cloud-storage is not installed on your machine\n",
    "# !{sys.executable} -m pip install google-cloud-storage\n",
    "from google.cloud import storage\n",
    "# put your the path to the folder where your google application credentials json is below\n",
    "os.environ['GOOGLE_APPLICATION_CREDENTIALS']=''"
   ]
  },
  {
   "cell_type": "code",
   "execution_count": 2,
   "metadata": {},
   "outputs": [],
   "source": [
    "import numpy as np\n",
    "import csv\n",
    "\n",
    "height = 1080\n",
    "width = 1240"
   ]
  },
  {
   "cell_type": "code",
   "execution_count": 3,
   "metadata": {},
   "outputs": [],
   "source": [
    "hyperplastic_idx = ['18', '27', '46', '53', '56', '96', '100']\n",
    "serrated_ad_idx = ['32', '59']\n",
    "sessile_serrated = ['58', '82', '90', '97']\n",
    "invasive_cancer = ['63']\n",
    "storage_client = storage.Client()\n",
    "bucket_name = 'sun-data-cloud' # replace 'sun-data-cloud' with the name of your Google storage bucket\n",
    "bucket = storage_client.bucket(bucket_name) \n",
    "\n",
    "\n",
    "blob_ann = [blob.name for blob in bucket.list_blobs(prefix='sundatabase_positive_part1/annotation_txt/')]\n",
    "\n",
    "for b in blob_ann:\n",
    "\n",
    "    csv_prefix = b.strip('.txt').replace('sundatabase_positive_part1/annotation_txt/', '')\n",
    "    case_num = csv_prefix.strip('case').strip('/')\n",
    "    if int(case_num) > 55:\n",
    "        folder = 'sundatabase_positive_part2/'\n",
    "    else:\n",
    "        folder = 'sundatabase_positive_part1/'\n",
    "        \n",
    "    blob_list = bucket.blob(b).download_as_string().splitlines()\n",
    "\n",
    "    for line in blob_list:\n",
    "        components = line.split()\n",
    "        components[0] = 'gs://' + bucket_name + '/'+folder+csv_prefix+'/'+components[0].decode(\"utf-8\")\n",
    "\n",
    "        if components[1].decode(\"utf-8\")[-1] == '1':\n",
    "            components.insert( 1, 'not-polyp')\n",
    "        elif components[1].decode(\"utf-8\")[-1] == '0':\n",
    "            components.insert(1, 'polyp')\n",
    "                \n",
    "        coords = components[2].decode(\"utf-8\")[:-2].split(',')\n",
    "        coords = [int(elm) for elm in coords]\n",
    "        coords[0] /= width\n",
    "        coords[1] /= height\n",
    "        coords[2] /= width\n",
    "        coords[3] /= height\n",
    "        if coords[2] > 1:\n",
    "            coords[2] = 1\n",
    "        if coords[3] > 1:\n",
    "            coords[3] = 1\n",
    "        coords = [str(elm) for elm in coords]\n",
    "        coords.insert(2, '')\n",
    "        coords.insert(2, '')\n",
    "        coords.insert(6, '')\n",
    "        coords.insert(6, '')\n",
    "        components.pop()\n",
    "        components += coords\n",
    "\n",
    "\n",
    "        with open(r'google_ml_binary_objdet.csv', 'a', newline='') as f:\n",
    "            writer = csv.writer(f, quoting=csv.QUOTE_NONE, escapechar=',')\n",
    "            writer.writerow(components)"
   ]
  },
  {
   "cell_type": "code",
   "execution_count": 4,
   "metadata": {},
   "outputs": [],
   "source": [
    "for blob in bucket.list_blobs(prefix='sundatabase_negative_part1'):\n",
    "    row = ['gs://sun-data-cloud/'+blob.name]\n",
    "    with open(r'google_ml_binary_objdet.csv', 'a', newline='') as f:\n",
    "            writer = csv.writer(f)\n",
    "            writer.writerow(row)\n",
    "            \n"
   ]
  },
  {
   "cell_type": "code",
   "execution_count": 5,
   "metadata": {},
   "outputs": [
    {
     "ename": "SyntaxError",
     "evalue": "invalid syntax (<ipython-input-5-65d1cb884049>, line 15)",
     "output_type": "error",
     "traceback": [
      "\u001b[1;36m  File \u001b[1;32m\"<ipython-input-5-65d1cb884049>\"\u001b[1;36m, line \u001b[1;32m15\u001b[0m\n\u001b[1;33m    with open(r'google_ml_binary_objdet.csv'', 'a', newline='') as f:\u001b[0m\n\u001b[1;37m                                                ^\u001b[0m\n\u001b[1;31mSyntaxError\u001b[0m\u001b[1;31m:\u001b[0m invalid syntax\n"
     ]
    }
   ],
   "source": [
    "for blob in bucket.list_blobs(prefix='sundatabase_negative_part2'):\n",
    "    row = ['gs://sun-data-cloud/'+blob.name]\n",
    "    with open(r'google_ml_binary_objdet.csv', 'a', newline='') as f:\n",
    "            writer = csv.writer(f)\n",
    "            writer.writerow(row)\n",
    "\n",
    "for blob in bucket.list_blobs(prefix='sundatabase_negative_part3'):\n",
    "    row = ['gs://sun-data-cloud/'+blob.name]\n",
    "    with open(r'google_ml_binary_objdet.csv', 'a', newline='') as f:\n",
    "            writer = csv.writer(f)\n",
    "            writer.writerow(row)\n",
    "\n",
    "for blob in bucket.list_blobs(prefix='sundatabase_negative_part4'):\n",
    "    row = ['gs://sun-data-cloud/'+blob.name]\n",
    "    with open(r'google_ml_binary_objdet.csv', 'a', newline='') as f:\n",
    "            writer = csv.writer(f)\n",
    "            writer.writerow(row)\n",
    "            "
   ]
  }
 ],
 "metadata": {
  "kernelspec": {
   "display_name": "cs1470",
   "language": "python",
   "name": "cs1470"
  },
  "language_info": {
   "codemirror_mode": {
    "name": "ipython",
    "version": 3
   },
   "file_extension": ".py",
   "mimetype": "text/x-python",
   "name": "python",
   "nbconvert_exporter": "python",
   "pygments_lexer": "ipython3",
   "version": "3.8.12"
  }
 },
 "nbformat": 4,
 "nbformat_minor": 4
}
